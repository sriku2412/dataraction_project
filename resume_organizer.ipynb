{
 "cells": [
  {
   "cell_type": "markdown",
   "metadata": {},
   "source": [
    "# resume organizer"
   ]
  },
  {
   "cell_type": "code",
   "execution_count": null,
   "metadata": {},
   "outputs": [],
   "source": [
    "import os\n",
    "from sklearn.feature_extraction.text import TfidfVectorizer\n",
    "from sklearn.metrics.pairwise import cosine_similarity\n",
    "import shutil # this is important for moving files"
   ]
  },
  {
   "cell_type": "code",
   "execution_count": null,
   "metadata": {},
   "outputs": [],
   "source": [
    "# Step 1: Load and preprocess documents\n",
    "def load_documents_from_folder(folder_path):\n",
    "    documents = []\n",
    "    file_paths = []\n",
    "    for root, dirs, files in os.walk(folder_path):\n",
    "        for file in files:\n",
    "            if file.endswith('.txt'):  # Assuming text files, adjust if needed\n",
    "                file_path = os.path.join(root, file)\n",
    "                with open(file_path, 'r', encoding='utf-8') as f:\n",
    "                    documents.append(f.read())\n",
    "                    file_paths.append(file_path)\n",
    "    return documents, file_paths"
   ]
  },
  {
   "cell_type": "code",
   "execution_count": null,
   "metadata": {},
   "outputs": [],
   "source": [
    "# Step 2: Compute TF-IDF and similarity\n",
    "def compute_similarity(documents, folder_names):\n",
    "    vectorizer = TfidfVectorizer()\n",
    "    doc_vectors = vectorizer.fit_transform(documents + folder_names)\n",
    "    similarity_matrix = cosine_similarity(doc_vectors[:-len(folder_names)], doc_vectors[-len(folder_names):])\n",
    "    return similarity_matrix"
   ]
  },
  {
   "cell_type": "code",
   "execution_count": null,
   "metadata": {},
   "outputs": [],
   "source": [
    "# Step 3: Recommend folders based on similarity\n",
    "def recommend_folders(similarity_matrix, file_paths, folder_names):\n",
    "    recommendations = {}\n",
    "    for i, file_path in enumerate(file_paths):\n",
    "        recommended_folder_index = similarity_matrix[i].argmax()\n",
    "        recommended_folder = folder_names[recommended_folder_index]\n",
    "        recommendations[file_path] = recommended_folder\n",
    "    return recommendations"
   ]
  },
  {
   "cell_type": "code",
   "execution_count": null,
   "metadata": {},
   "outputs": [],
   "source": [
    "# Step 4: Move documents to recommended folders\n",
    "def move_documents(recommendations):\n",
    "    for file_path, recommended_folder in recommendations.items():\n",
    "        destination = os.path.join(recommended_folder, os.path.basename(file_path))\n",
    "        shutil.move(file_path, destination)\n",
    "        print(f'Moved {file_path} to {destination}')"
   ]
  },
  {
   "cell_type": "code",
   "execution_count": null,
   "metadata": {},
   "outputs": [],
   "source": [
    "# Main function\n",
    "def organize_resumes(base_folder, folder_names):\n",
    "    documents, file_paths = load_documents_from_folder(base_folder)\n",
    "    similarity_matrix = compute_similarity(documents, folder_names)\n",
    "    recommendations = recommend_folders(similarity_matrix, file_paths, folder_names)\n",
    "    move_documents(recommendations)"
   ]
  },
  {
   "cell_type": "code",
   "execution_count": null,
   "metadata": {},
   "outputs": [],
   "source": [
    "# Example usage\n",
    "base_folder = 'path/to/resumes'\n",
    "folder_names = ['Engineering', 'Marketing', 'Data Science']  # Example categories\n",
    "organize_resumes(base_folder, folder_names)"
   ]
  }
 ],
 "metadata": {
  "kernelspec": {
   "display_name": "Python 3",
   "language": "python",
   "name": "python3"
  },
  "language_info": {
   "name": "python",
   "version": "3.11.8"
  }
 },
 "nbformat": 4,
 "nbformat_minor": 2
}
